{
 "cells": [
  {
   "cell_type": "markdown",
   "metadata": {},
   "source": [
    "#### 1: View and add the dataset"
   ]
  },
  {
   "cell_type": "code",
   "execution_count": 1,
   "metadata": {},
   "outputs": [],
   "source": [
    "#Import required library\n",
    "import numpy as np"
   ]
  },
  {
   "cell_type": "code",
   "execution_count": 2,
   "metadata": {},
   "outputs": [],
   "source": [
    "#Manually add the dataset\n",
    "countries = np.array(['Algeria','Angola','Argentina','Australia','Austria','Bahamas','Bangladesh','Belarus',\n",
    "                      'Belgium','Bhutan','Brazil','Bulgaria','Cambodia','Cameroon','Chile','China','Colombia',\n",
    "                      'Cyprus','Denmark','El Salvador','Estonia','Ethiopia','Fiji','Finland','France','Georgia',\n",
    "                      'Ghana','Grenada','Guinea','Haiti','Honduras','Hungary','India','Indonesia','Ireland',\n",
    "                      'Italy','Japan','Kenya', 'South Korea','Liberia','Malaysia','Mexico', 'Morocco','Nepal',\n",
    "                      'New Zealand','Norway','Pakistan', 'Peru','Qatar','Russia','Singapore','South Africa','Spain',\n",
    "                      'Sweden','Switzerland','Thailand', 'United Arab Emirates','United Kingdom','United States',\n",
    "                      'Uruguay','Venezuela','Vietnam','Zimbabwe'])\n",
    "\n",
    "gdp_per_capita = np.array([2255.225482,629.9553062,11601.63022,25306.82494,27266.40335,19466.99052,588.3691778,2890.345675,\n",
    "                           24733.62696,1445.760002,4803.398244,2618.876037,590.4521124,665.7982328,7122.938458,2639.54156,\n",
    "                           3362.4656,15378.16704,30860.12808,2579.115607,6525.541272,229.6769525,2242.689259,27570.4852,\n",
    "                           23016.84778,1334.646773,402.6953275,6047.200797,394.1156638,385.5793827,1414.072488,5745.981529,\n",
    "                           837.7464011,1206.991065,27715.52837,18937.24998,39578.07441,478.2194906,16684.21278,279.2204061,\n",
    "                           5345.213415,6288.25324,1908.304416,274.8728621,14646.42094,40034.85063,672.1547506,3359.517402,\n",
    "                           36152.66676,3054.727742,33529.83052,3825.093781,15428.32098,33630.24604,39170.41371,2699.123242,\n",
    "                           21058.43643,28272.40661,37691.02733,9581.05659,5671.912202,757.4009286,347.7456605])\n",
    "                     "
   ]
  },
  {
   "cell_type": "markdown",
   "metadata": {
    "collapsed": true
   },
   "source": [
    "#### 2: Find and print the name of the country with the highest GDP"
   ]
  },
  {
   "cell_type": "code",
   "execution_count": 4,
   "metadata": {},
   "outputs": [],
   "source": [
    "#Use the argmax() method to find the highest GDP\n",
    "max_gdp_per_capita = gdp_per_capita.argmax()\n",
    "country_with_max_gdp_per_capita = countries[max_gdp_per_capita]"
   ]
  },
  {
   "cell_type": "code",
   "execution_count": 5,
   "metadata": {},
   "outputs": [
    {
     "data": {
      "text/plain": [
       "'Norway'"
      ]
     },
     "execution_count": 5,
     "metadata": {},
     "output_type": "execute_result"
    }
   ],
   "source": [
    "#Print the name of the country\n",
    "country_with_max_gdp_per_capita"
   ]
  },
  {
   "cell_type": "markdown",
   "metadata": {},
   "source": [
    "#### 3: Find and print the name of the country with the lowest GDP"
   ]
  },
  {
   "cell_type": "code",
   "execution_count": 6,
   "metadata": {},
   "outputs": [],
   "source": [
    "#Use the argmin() method to find the lowest GDP\n",
    "min_gdp_per_capita = gdp_per_capita.argmin()\n",
    "country_with_min_gdp_per_capita = countries[min_gdp_per_capita]"
   ]
  },
  {
   "cell_type": "code",
   "execution_count": 7,
   "metadata": {},
   "outputs": [
    {
     "data": {
      "text/plain": [
       "'Ethiopia'"
      ]
     },
     "execution_count": 7,
     "metadata": {},
     "output_type": "execute_result"
    }
   ],
   "source": [
    "#Print the name of the country\n",
    "country_with_min_gdp_per_capita"
   ]
  },
  {
   "cell_type": "markdown",
   "metadata": {},
   "source": [
    "#### 4: Print out text ('evaluating country') and input value ('country name') iteratively"
   ]
  },
  {
   "cell_type": "code",
   "execution_count": 19,
   "metadata": {},
   "outputs": [
    {
     "name": "stdout",
     "output_type": "stream",
     "text": [
      "evaluting country Algeria\n",
      "evaluting country Angola\n",
      "evaluting country Argentina\n",
      "evaluting country Australia\n",
      "evaluting country Austria\n",
      "evaluting country Bahamas\n",
      "evaluting country Bangladesh\n",
      "evaluting country Belarus\n",
      "evaluting country Belgium\n",
      "evaluting country Bhutan\n",
      "evaluting country Brazil\n",
      "evaluting country Bulgaria\n",
      "evaluting country Cambodia\n",
      "evaluting country Cameroon\n",
      "evaluting country Chile\n",
      "evaluting country China\n",
      "evaluting country Colombia\n",
      "evaluting country Cyprus\n",
      "evaluting country Denmark\n",
      "evaluting country El Salvador\n",
      "evaluting country Estonia\n",
      "evaluting country Ethiopia\n",
      "evaluting country Fiji\n",
      "evaluting country Finland\n",
      "evaluting country France\n",
      "evaluting country Georgia\n",
      "evaluting country Ghana\n",
      "evaluting country Grenada\n",
      "evaluting country Guinea\n",
      "evaluting country Haiti\n",
      "evaluting country Honduras\n",
      "evaluting country Hungary\n",
      "evaluting country India\n",
      "evaluting country Indonesia\n",
      "evaluting country Ireland\n",
      "evaluting country Italy\n",
      "evaluting country Japan\n",
      "evaluting country Kenya\n",
      "evaluting country South Korea\n",
      "evaluting country Liberia\n",
      "evaluting country Malaysia\n",
      "evaluting country Mexico\n",
      "evaluting country Morocco\n",
      "evaluting country Nepal\n",
      "evaluting country New Zealand\n",
      "evaluting country Norway\n",
      "evaluting country Pakistan\n",
      "evaluting country Peru\n",
      "evaluting country Qatar\n",
      "evaluting country Russia\n",
      "evaluting country Singapore\n",
      "evaluting country South Africa\n",
      "evaluting country Spain\n",
      "evaluting country Sweden\n",
      "evaluting country Switzerland\n",
      "evaluting country Thailand\n",
      "evaluting country United Arab Emirates\n",
      "evaluting country United Kingdom\n",
      "evaluting country United States\n",
      "evaluting country Uruguay\n",
      "evaluting country Venezuela\n",
      "evaluting country Vietnam\n",
      "evaluting country Zimbabwe\n"
     ]
    }
   ],
   "source": [
    "#Use a for loop to print the required output\n",
    "for country in countries:\n",
    "    print('evaluting country {}'.format(country))"
   ]
  },
  {
   "cell_type": "markdown",
   "metadata": {},
   "source": [
    "#### 5: Print out the entire list of the countries with their GDPs"
   ]
  },
  {
   "cell_type": "code",
   "execution_count": 16,
   "metadata": {},
   "outputs": [
    {
     "name": "stdout",
     "output_type": "stream",
     "text": [
      "countryAlgeria per capita gdp is 2255.225482\n",
      "countryAngola per capita gdp is 629.9553062\n",
      "countryArgentina per capita gdp is 11601.63022\n",
      "countryAustralia per capita gdp is 25306.82494\n",
      "countryAustria per capita gdp is 27266.40335\n",
      "countryBahamas per capita gdp is 19466.99052\n",
      "countryBangladesh per capita gdp is 588.3691778\n",
      "countryBelarus per capita gdp is 2890.345675\n",
      "countryBelgium per capita gdp is 24733.62696\n",
      "countryBhutan per capita gdp is 1445.760002\n",
      "countryBrazil per capita gdp is 4803.398244\n",
      "countryBulgaria per capita gdp is 2618.876037\n",
      "countryCambodia per capita gdp is 590.4521124\n",
      "countryCameroon per capita gdp is 665.7982328\n",
      "countryChile per capita gdp is 7122.938458\n",
      "countryChina per capita gdp is 2639.54156\n",
      "countryColombia per capita gdp is 3362.4656\n",
      "countryCyprus per capita gdp is 15378.16704\n",
      "countryDenmark per capita gdp is 30860.12808\n",
      "countryEl Salvador per capita gdp is 2579.115607\n",
      "countryEstonia per capita gdp is 6525.541272\n",
      "countryEthiopia per capita gdp is 229.6769525\n",
      "countryFiji per capita gdp is 2242.689259\n",
      "countryFinland per capita gdp is 27570.4852\n",
      "countryFrance per capita gdp is 23016.84778\n",
      "countryGeorgia per capita gdp is 1334.646773\n",
      "countryGhana per capita gdp is 402.6953275\n",
      "countryGrenada per capita gdp is 6047.200797\n",
      "countryGuinea per capita gdp is 394.1156638\n",
      "countryHaiti per capita gdp is 385.5793827\n",
      "countryHonduras per capita gdp is 1414.072488\n",
      "countryHungary per capita gdp is 5745.981529\n",
      "countryIndia per capita gdp is 837.7464011\n",
      "countryIndonesia per capita gdp is 1206.991065\n",
      "countryIreland per capita gdp is 27715.52837\n",
      "countryItaly per capita gdp is 18937.24998\n",
      "countryJapan per capita gdp is 39578.07441\n",
      "countryKenya per capita gdp is 478.2194906\n",
      "countrySouth Korea per capita gdp is 16684.21278\n",
      "countryLiberia per capita gdp is 279.2204061\n",
      "countryMalaysia per capita gdp is 5345.213415\n",
      "countryMexico per capita gdp is 6288.25324\n",
      "countryMorocco per capita gdp is 1908.304416\n",
      "countryNepal per capita gdp is 274.8728621\n",
      "countryNew Zealand per capita gdp is 14646.42094\n",
      "countryNorway per capita gdp is 40034.85063\n",
      "countryPakistan per capita gdp is 672.1547506\n",
      "countryPeru per capita gdp is 3359.517402\n",
      "countryQatar per capita gdp is 36152.66676\n",
      "countryRussia per capita gdp is 3054.727742\n",
      "countrySingapore per capita gdp is 33529.83052\n",
      "countrySouth Africa per capita gdp is 3825.093781\n",
      "countrySpain per capita gdp is 15428.32098\n",
      "countrySweden per capita gdp is 33630.24604\n",
      "countrySwitzerland per capita gdp is 39170.41371\n",
      "countryThailand per capita gdp is 2699.123242\n",
      "countryUnited Arab Emirates per capita gdp is 21058.43643\n",
      "countryUnited Kingdom per capita gdp is 28272.40661\n",
      "countryUnited States per capita gdp is 37691.02733\n",
      "countryUruguay per capita gdp is 9581.05659\n",
      "countryVenezuela per capita gdp is 5671.912202\n",
      "countryVietnam per capita gdp is 757.4009286\n",
      "countryZimbabwe per capita gdp is 347.7456605\n"
     ]
    }
   ],
   "source": [
    "#Use a for loop to print the required list\n",
    "for i in range(len(countries)):\n",
    "    country = countries[i]\n",
    "    country_gdp_per_capita = gdp_per_capita[i]\n",
    "    print('country{} per capita gdp is {}'.format(country,country_gdp_per_capita))"
   ]
  },
  {
   "cell_type": "markdown",
   "metadata": {},
   "source": [
    "#### 6: Print the following:\n",
    "1. Highest GPD value\n",
    "2. Lowest GDP value\n",
    "3. Mean GDP value\n",
    "4. Standardized GDP value\n",
    "5. Sum of all the GDPs"
   ]
  },
  {
   "cell_type": "code",
   "execution_count": 20,
   "metadata": {},
   "outputs": [
    {
     "name": "stdout",
     "output_type": "stream",
     "text": [
      "40034.85063\n",
      "229.6769525\n",
      "11289.409271639683\n",
      "12743.828910617945\n",
      "711232.7841133\n"
     ]
    }
   ],
   "source": [
    "print(gdp_per_capita.max())\n",
    "print(gdp_per_capita.min())\n",
    "print(gdp_per_capita.mean())\n",
    "print(gdp_per_capita.std())\n",
    "print(gdp_per_capita.sum())"
   ]
  },
  {
   "cell_type": "code",
   "execution_count": null,
   "metadata": {},
   "outputs": [],
   "source": []
  }
 ],
 "metadata": {
  "kernelspec": {
   "display_name": "Python 3",
   "language": "python",
   "name": "python3"
  },
  "language_info": {
   "codemirror_mode": {
    "name": "ipython",
    "version": 3
   },
   "file_extension": ".py",
   "mimetype": "text/x-python",
   "name": "python",
   "nbconvert_exporter": "python",
   "pygments_lexer": "ipython3",
   "version": "3.7.6"
  }
 },
 "nbformat": 4,
 "nbformat_minor": 1
}
